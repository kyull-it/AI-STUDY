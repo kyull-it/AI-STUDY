{
 "cells": [
  {
   "cell_type": "markdown",
   "id": "27ab5946-4cb5-493b-b442-2f7cb3ab8ccd",
   "metadata": {},
   "source": [
    "## RNN을 Keras로 구현"
   ]
  },
  {
   "cell_type": "code",
   "execution_count": 2,
   "id": "f8d5a7c0-e1fe-4631-86f1-8f8f11bffc9a",
   "metadata": {},
   "outputs": [],
   "source": [
    "from tensorflow.keras.models import Sequential\n",
    "from tensorflow.keras.layers import SimpleRNN"
   ]
  },
  {
   "cell_type": "code",
   "execution_count": 4,
   "id": "136fa61d-3a73-4190-8ba5-f776b741d610",
   "metadata": {},
   "outputs": [],
   "source": [
    "model = Sequential()\n",
    "model.add(SimpleRNN(3, input_shape=(2,10)))\n",
    "# model.add(SimpleRNN(3, input_length=2, input_dim=10))와 동일함."
   ]
  },
  {
   "cell_type": "code",
   "execution_count": 5,
   "id": "d24f0494-427d-45ed-99f0-c44da5db80af",
   "metadata": {},
   "outputs": [
    {
     "name": "stdout",
     "output_type": "stream",
     "text": [
      "Model: \"sequential_1\"\n",
      "_________________________________________________________________\n",
      " Layer (type)                Output Shape              Param #   \n",
      "=================================================================\n",
      " simple_rnn_1 (SimpleRNN)    (None, 3)                 42        \n",
      "                                                                 \n",
      "=================================================================\n",
      "Total params: 42\n",
      "Trainable params: 42\n",
      "Non-trainable params: 0\n",
      "_________________________________________________________________\n"
     ]
    }
   ],
   "source": [
    "model.summary()"
   ]
  },
  {
   "cell_type": "markdown",
   "id": "2a34fe8e-749b-4359-b3b5-22c60558ae59",
   "metadata": {},
   "source": [
    "## RNN을 numpy로 구현"
   ]
  },
  {
   "cell_type": "code",
   "execution_count": 6,
   "id": "463198c4-ad96-4f29-9c3d-68d400c2b250",
   "metadata": {},
   "outputs": [],
   "source": [
    "import numpy as np"
   ]
  },
  {
   "cell_type": "code",
   "execution_count": 7,
   "id": "4c061092-9f2c-48d3-b74b-ae10e19905c7",
   "metadata": {},
   "outputs": [
    {
     "name": "stdout",
     "output_type": "stream",
     "text": [
      "입력데이터 크기 :  (10, 4)\n",
      "은닉 상태 초기값 :  [0. 0. 0. 0. 0. 0. 0. 0.]\n"
     ]
    }
   ],
   "source": [
    "timesteps = 10   # input_length\n",
    "input_dims = 4\n",
    "hidden_units = 8 \n",
    "\n",
    "# Input Data Sample (2D)\n",
    "inputs = np.random.random((timesteps, input_dims))\n",
    "\n",
    "# Initiate\n",
    "hidden_state = np.zeros((hidden_units,))\n",
    "\n",
    "print(\"입력데이터 크기 : \", inputs.shape)\n",
    "print(\"은닉 상태 초기값 : \", hidden_state)"
   ]
  },
  {
   "cell_type": "code",
   "execution_count": 8,
   "id": "646164d4-34ff-4ff3-8f73-c07c3fa0620b",
   "metadata": {},
   "outputs": [
    {
     "name": "stdout",
     "output_type": "stream",
     "text": [
      "가중치 Wx의 크기(shape) : (8, 4)\n",
      "가중치 Wh의 크기(shape) : (8, 8)\n",
      "편향의 크기(shape) : (8,)\n"
     ]
    }
   ],
   "source": [
    "Wx = np.random.random((hidden_units, input_dims))\n",
    "Wh = np.random.random((hidden_units, hidden_units))\n",
    "b = np.random.random((hidden_units,))\n",
    "\n",
    "print('가중치 Wx의 크기(shape) :',np.shape(Wx))\n",
    "print('가중치 Wh의 크기(shape) :',np.shape(Wh))\n",
    "print('편향의 크기(shape) :',np.shape(b))"
   ]
  },
  {
   "cell_type": "markdown",
   "id": "28d8a8b7-5583-4eb5-bcb6-39a7e5ac64e5",
   "metadata": {},
   "source": [
    "total_hidden_states = [] \n",
    "for input in inputs:\n",
    "\n",
    "    output_t = np.tanh(np.dot(Wx,input)+np.dot(Wh, hidden_state) + b)\n",
    "\n",
    "    total_hidden_states.append(list(output_t))\n",
    "    hidden_state = output_t"
   ]
  },
  {
   "cell_type": "code",
   "execution_count": 19,
   "id": "10f56819-4118-4d52-a6f9-2ebe48a0b57c",
   "metadata": {},
   "outputs": [
    {
     "name": "stdout",
     "output_type": "stream",
     "text": [
      "모든 시점의 은닉 상태 :\n",
      "[[0.99999378 0.99992751 0.9996631  0.99987819 0.99987322 0.99998086\n",
      "  0.99998347 0.99966841]\n",
      " [0.99998255 0.99989873 0.99923352 0.99986112 0.99964187 0.9999505\n",
      "  0.99997365 0.99943064]\n",
      " [0.99999196 0.99993587 0.99977692 0.99993266 0.99990735 0.99997907\n",
      "  0.99998386 0.99977457]\n",
      " [0.99999154 0.99995994 0.99983773 0.99995145 0.99991148 0.99999209\n",
      "  0.99999452 0.99968106]\n",
      " [0.99999136 0.9999381  0.9997422  0.99990601 0.99989224 0.99998934\n",
      "  0.99998963 0.9994188 ]\n",
      " [0.99999778 0.99997403 0.99993479 0.99996132 0.99997096 0.99999648\n",
      "  0.99999658 0.99989857]\n",
      " [0.9999738  0.99991919 0.99952164 0.99991677 0.99974256 0.99997299\n",
      "  0.99998421 0.99914319]\n",
      " [0.99998922 0.9999369  0.9996638  0.99991794 0.99983498 0.99997994\n",
      "  0.99998761 0.99963194]\n",
      " [0.99999525 0.99993328 0.99980159 0.99991294 0.9999332  0.99998283\n",
      "  0.99998206 0.99980112]\n",
      " [0.99999259 0.99987473 0.99961763 0.99984976 0.99989793 0.99995546\n",
      "  0.99994585 0.99967779]]\n"
     ]
    }
   ],
   "source": [
    "# 출력 시 값을 깔끔하게 해주는 용도.\n",
    "total_hidden_states = np.stack(total_hidden_states, axis = 0) \n",
    "\n",
    "print('모든 시점의 은닉 상태 :')\n",
    "print(total_hidden_states)"
   ]
  },
  {
   "cell_type": "markdown",
   "id": "17fc5107-c340-4a5a-8050-aa5bb6c860d7",
   "metadata": {},
   "source": [
    "---\n",
    "### Deep Recurrent Neural Network \n",
    " - 깊은 순환 신경망\n",
    " - 은닉층이 2개 이상인 RNN"
   ]
  },
  {
   "cell_type": "code",
   "execution_count": null,
   "id": "5f2c6576-4e35-4ab0-8f02-000a53fb806e",
   "metadata": {},
   "outputs": [],
   "source": [
    "model = Sequential()\n",
    "model.add(SimpleRNN(hidden_units, input_length=10, input_dim=5, return_sequences=True))\n",
    "model.add(SimpleRNN(hidden_units, return_sequences=True))"
   ]
  },
  {
   "cell_type": "markdown",
   "id": "e55e80ee-5f18-4387-9433-78034cccb5f9",
   "metadata": {},
   "source": [
    "---\n",
    "### Bidirectional Recurrent Neural Network\n",
    " - 양방향 순환 신경망\n",
    " - 이전 은닉상태뿐만 아니라 이후의 은닉상태까지 고려해주는 RNN\n",
    " - 예시로는 아래와 같은 경우에 사용할 수 있다.\n",
    "\n",
    "\n",
    "운동을 열심히 하는 것은 [        ]을 늘리는데 효과적이다.\n",
    "\n",
    "1) 근육\n",
    "2) 지방\n",
    "3) 스트레스"
   ]
  },
  {
   "cell_type": "code",
   "execution_count": null,
   "id": "9cf66d27-297a-4085-b73a-3528ab7a9e4f",
   "metadata": {},
   "outputs": [],
   "source": [
    "from tensorflow.keras.layers import Bidirectional\n",
    "\n",
    "timesteps = 10\n",
    "input_dim = 5\n",
    "\n",
    "model = Sequential()\n",
    "model.add(Bidirectional(SimpleRNN(hidden_units, return_sequences=True), input_shape=(timesteps, input_dim)))"
   ]
  },
  {
   "cell_type": "code",
   "execution_count": null,
   "id": "03e02989-8d8a-4e33-8f75-c814bc764007",
   "metadata": {},
   "outputs": [],
   "source": [
    "model = Sequential()\n",
    "model.add(Bidirectional(SimpleRNN(hidden_units, return_sequences=True), input_shape=(timesteps, input_dim)))\n",
    "model.add(Bidirectional(SimpleRNN(hidden_units, return_sequences=True)))\n",
    "model.add(Bidirectional(SimpleRNN(hidden_units, return_sequences=True)))\n",
    "model.add(Bidirectional(SimpleRNN(hidden_units, return_sequences=True)))"
   ]
  }
 ],
 "metadata": {
  "kernelspec": {
   "display_name": "tensorflow",
   "language": "python",
   "name": "tensorflow"
  },
  "language_info": {
   "codemirror_mode": {
    "name": "ipython",
    "version": 3
   },
   "file_extension": ".py",
   "mimetype": "text/x-python",
   "name": "python",
   "nbconvert_exporter": "python",
   "pygments_lexer": "ipython3",
   "version": "3.9.16"
  }
 },
 "nbformat": 4,
 "nbformat_minor": 5
}
